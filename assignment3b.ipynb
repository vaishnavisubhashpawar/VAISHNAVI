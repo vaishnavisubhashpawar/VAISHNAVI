{
  "nbformat": 4,
  "nbformat_minor": 0,
  "metadata": {
    "colab": {
      "provenance": []
    },
    "kernelspec": {
      "name": "python3",
      "display_name": "Python 3"
    },
    "language_info": {
      "name": "python"
    }
  },
  "cells": [
    {
      "cell_type": "code",
      "execution_count": null,
      "metadata": {
        "colab": {
          "base_uri": "https://localhost:8080/"
        },
        "id": "2GFzE_Cyc4A3",
        "outputId": "0d331f0a-b987-4e1c-8bc4-2f9b12c31a2a"
      },
      "outputs": [
        {
          "output_type": "stream",
          "name": "stdout",
          "text": [
            "[[   nan    nan    nan    nan    nan]\n",
            " [801.    43.05  27.79  28.7   27.79]\n",
            " [802.    43.47  28.52  28.98  27.89]\n",
            " [803.    42.24  28.16  28.16  25.63]\n",
            " [804.    39.24  26.16  26.16  26.16]\n",
            " [805.    40.9   26.03  27.27  25.65]\n",
            " [806.    39.47  26.31  26.31  25.21]\n",
            " [807.    41.68  25.63  27.79  25.46]\n",
            " [808.    42.19  27.61  28.13  26.21]\n",
            " [809.    44.75  28.35  29.83  28.21]\n",
            " [810.    46.95  28.88  31.3   28.53]]\n",
            "<class 'numpy.ndarray'>\n",
            "46.95\n"
          ]
        }
      ],
      "source": [
        "import numpy as np\n",
        "d1=np.genfromtxt(\"/content/testmarks1.csv\",delimiter=\",\")\n",
        "print(d1)\n",
        "EDS=d1[1:,1]\n",
        "print(type(EDS))\n",
        "print(max(EDS))"
      ]
    },
    {
      "cell_type": "code",
      "source": [
        "\n",
        "import numpy as np\n",
        "d2=np.genfromtxt(\"/content/testmarks2.csv \",delimiter=\",\")\n",
        "print(d2)\n",
        "EDS=dl[:,1]\n",
        "print(type(EDS))\n",
        "print(max(EDS))\n"
      ],
      "metadata": {
        "colab": {
          "base_uri": "https://localhost:8080/"
        },
        "id": "n9FwvDsOgQcn",
        "outputId": "c197a0ca-4b49-4b89-ad14-42e176f05948"
      },
      "execution_count": null,
      "outputs": [
        {
          "output_type": "stream",
          "name": "stdout",
          "text": [
            "[[   nan    nan    nan    nan    nan]\n",
            " [801.    28.48  34.18  30.56  22.23]\n",
            " [802.    28.1   33.72  30.68  22.82]\n",
            " [803.    26.16  31.39  28.2   22.53]\n",
            " [804.    26.16  31.39  28.78  20.93]\n",
            " [805.    26.1   31.32  28.22  20.82]\n",
            " [806.    25.45  30.54  27.73  21.05]\n",
            " [807.    26.16  31.39  28.01  20.51]\n",
            " [808.    27.44  32.93  28.83  22.08]\n",
            " [809.    28.63  34.35  31.03  22.68]\n",
            " [810.    30.35  36.42  31.38  23.1 ]]\n",
            "<class 'numpy.ndarray'>\n",
            "nan\n"
          ]
        }
      ]
    },
    {
      "cell_type": "markdown",
      "source": [
        "matrix operator"
      ],
      "metadata": {
        "id": "GvgFSrnSobZc"
      }
    },
    {
      "cell_type": "code",
      "source": [
        "resultd=d1+d2\n",
        "\n",
        "print(\"\\nUsing Operator:\\n\",resultd)\n",
        "resultd=np.add(d1,d2)\n",
        "print(\"\\nUsing Numpy Function:\\n\",resultd)"
      ],
      "metadata": {
        "colab": {
          "base_uri": "https://localhost:8080/"
        },
        "id": "cTl_ZOZWhHZX",
        "outputId": "9d6c3901-7c55-43c6-95a2-548304a11789"
      },
      "execution_count": null,
      "outputs": [
        {
          "output_type": "stream",
          "name": "stdout",
          "text": [
            "\n",
            "Using Operator:\n",
            " [[    nan     nan     nan     nan     nan]\n",
            " [1602.     71.53   61.97   59.26   50.02]\n",
            " [1604.     71.57   62.24   59.66   50.71]\n",
            " [1606.     68.4    59.55   56.36   48.16]\n",
            " [1608.     65.4    57.55   54.94   47.09]\n",
            " [1610.     67.     57.35   55.49   46.47]\n",
            " [1612.     64.92   56.85   54.04   46.26]\n",
            " [1614.     67.84   57.02   55.8    45.97]\n",
            " [1616.     69.63   60.54   56.96   48.29]\n",
            " [1618.     73.38   62.7    60.86   50.89]\n",
            " [1620.     77.3    65.3    62.68   51.63]]\n",
            "\n",
            "Using Numpy Function:\n",
            " [[    nan     nan     nan     nan     nan]\n",
            " [1602.     71.53   61.97   59.26   50.02]\n",
            " [1604.     71.57   62.24   59.66   50.71]\n",
            " [1606.     68.4    59.55   56.36   48.16]\n",
            " [1608.     65.4    57.55   54.94   47.09]\n",
            " [1610.     67.     57.35   55.49   46.47]\n",
            " [1612.     64.92   56.85   54.04   46.26]\n",
            " [1614.     67.84   57.02   55.8    45.97]\n",
            " [1616.     69.63   60.54   56.96   48.29]\n",
            " [1618.     73.38   62.7    60.86   50.89]\n",
            " [1620.     77.3    65.3    62.68   51.63]]\n"
          ]
        }
      ]
    },
    {
      "cell_type": "code",
      "source": [
        "#SUBSTRACTION\n",
        "resultd=d1-d2\n",
        "print(\"\\nUsing Operator:\\n\",resultd)\n",
        "resultd=np.subtract(d1,d2)\n",
        "print(\"\\nUsing Numpy Function:\\n\",resultd)"
      ],
      "metadata": {
        "colab": {
          "base_uri": "https://localhost:8080/"
        },
        "id": "M8XUH03xhr7A",
        "outputId": "00672373-3a53-4b04-ca0c-58b642106b9e"
      },
      "execution_count": null,
      "outputs": [
        {
          "output_type": "stream",
          "name": "stdout",
          "text": [
            "\n",
            "Using Operator:\n",
            " [[  nan   nan   nan   nan   nan]\n",
            " [ 0.   14.57 -6.39 -1.86  5.56]\n",
            " [ 0.   15.37 -5.2  -1.7   5.07]\n",
            " [ 0.   16.08 -3.23 -0.04  3.1 ]\n",
            " [ 0.   13.08 -5.23 -2.62  5.23]\n",
            " [ 0.   14.8  -5.29 -0.95  4.83]\n",
            " [ 0.   14.02 -4.23 -1.42  4.16]\n",
            " [ 0.   15.52 -5.76 -0.22  4.95]\n",
            " [ 0.   14.75 -5.32 -0.7   4.13]\n",
            " [ 0.   16.12 -6.   -1.2   5.53]\n",
            " [ 0.   16.6  -7.54 -0.08  5.43]]\n",
            "\n",
            "Using Numpy Function:\n",
            " [[  nan   nan   nan   nan   nan]\n",
            " [ 0.   14.57 -6.39 -1.86  5.56]\n",
            " [ 0.   15.37 -5.2  -1.7   5.07]\n",
            " [ 0.   16.08 -3.23 -0.04  3.1 ]\n",
            " [ 0.   13.08 -5.23 -2.62  5.23]\n",
            " [ 0.   14.8  -5.29 -0.95  4.83]\n",
            " [ 0.   14.02 -4.23 -1.42  4.16]\n",
            " [ 0.   15.52 -5.76 -0.22  4.95]\n",
            " [ 0.   14.75 -5.32 -0.7   4.13]\n",
            " [ 0.   16.12 -6.   -1.2   5.53]\n",
            " [ 0.   16.6  -7.54 -0.08  5.43]]\n"
          ]
        }
      ]
    },
    {
      "cell_type": "code",
      "source": [
        "#MULTIPLICATION\n",
        "resultd=d1*d2\n",
        "print(\"\\nUsing Operator:\\n\",resultd)\n",
        "resultd=np.multiply(d1,d2)\n",
        "print(\"\\nUsing Numpy Function:\\n\",resultd)"
      ],
      "metadata": {
        "colab": {
          "base_uri": "https://localhost:8080/"
        },
        "id": "MhisEnK9h9d-",
        "outputId": "12414029-f7cc-44a4-ee87-dfeee80adc10"
      },
      "execution_count": null,
      "outputs": [
        {
          "output_type": "stream",
          "name": "stdout",
          "text": [
            "\n",
            "Using Operator:\n",
            " [[          nan           nan           nan           nan           nan]\n",
            " [6.4160100e+05 1.2260640e+03 9.4986220e+02 8.7707200e+02 6.1777170e+02]\n",
            " [6.4320400e+05 1.2215070e+03 9.6169440e+02 8.8910640e+02 6.3644980e+02]\n",
            " [6.4480900e+05 1.1049984e+03 8.8394240e+02 7.9411200e+02 5.7744390e+02]\n",
            " [6.4641600e+05 1.0265184e+03 8.2116240e+02 7.5288480e+02 5.4752880e+02]\n",
            " [6.4802500e+05 1.0674900e+03 8.1525960e+02 7.6955940e+02 5.3403300e+02]\n",
            " [6.4963600e+05 1.0045115e+03 8.0350740e+02 7.2957630e+02 5.3067050e+02]\n",
            " [6.5124900e+05 1.0903488e+03 8.0452570e+02 7.7839790e+02 5.2218460e+02]\n",
            " [6.5286400e+05 1.1576936e+03 9.0919730e+02 8.1098790e+02 5.7871680e+02]\n",
            " [6.5448100e+05 1.2811925e+03 9.7382250e+02 9.2562490e+02 6.3980280e+02]\n",
            " [6.5610000e+05 1.4249325e+03 1.0518096e+03 9.8219400e+02 6.5904300e+02]]\n",
            "\n",
            "Using Numpy Function:\n",
            " [[          nan           nan           nan           nan           nan]\n",
            " [6.4160100e+05 1.2260640e+03 9.4986220e+02 8.7707200e+02 6.1777170e+02]\n",
            " [6.4320400e+05 1.2215070e+03 9.6169440e+02 8.8910640e+02 6.3644980e+02]\n",
            " [6.4480900e+05 1.1049984e+03 8.8394240e+02 7.9411200e+02 5.7744390e+02]\n",
            " [6.4641600e+05 1.0265184e+03 8.2116240e+02 7.5288480e+02 5.4752880e+02]\n",
            " [6.4802500e+05 1.0674900e+03 8.1525960e+02 7.6955940e+02 5.3403300e+02]\n",
            " [6.4963600e+05 1.0045115e+03 8.0350740e+02 7.2957630e+02 5.3067050e+02]\n",
            " [6.5124900e+05 1.0903488e+03 8.0452570e+02 7.7839790e+02 5.2218460e+02]\n",
            " [6.5286400e+05 1.1576936e+03 9.0919730e+02 8.1098790e+02 5.7871680e+02]\n",
            " [6.5448100e+05 1.2811925e+03 9.7382250e+02 9.2562490e+02 6.3980280e+02]\n",
            " [6.5610000e+05 1.4249325e+03 1.0518096e+03 9.8219400e+02 6.5904300e+02]]\n"
          ]
        }
      ]
    },
    {
      "cell_type": "code",
      "source": [
        "#DIVISION\n",
        "resultd=d1/d2\n",
        "print(\"\\nUsing Operator:\\n\",resultd)\n",
        "resultd=np.divide(d1,d2)\n",
        "print(\"\\nUsing Numpy Function:\\n\",resultd)"
      ],
      "metadata": {
        "colab": {
          "base_uri": "https://localhost:8080/"
        },
        "id": "52jEqscnpXcG",
        "outputId": "3d4a4be8-173c-4c27-a3a8-10cd208f645d"
      },
      "execution_count": null,
      "outputs": [
        {
          "output_type": "stream",
          "name": "stdout",
          "text": [
            "\n",
            "Using Operator:\n",
            " [[       nan        nan        nan        nan        nan]\n",
            " [1.         1.51158708 0.81304857 0.93913613 1.25011246]\n",
            " [1.         1.54697509 0.84578885 0.94458931 1.22217353]\n",
            " [1.         1.6146789  0.89710099 0.99858156 1.13759432]\n",
            " [1.         1.5        0.83338643 0.90896456 1.24988055]\n",
            " [1.         1.56704981 0.83109834 0.96633593 1.23198847]\n",
            " [1.         1.55088409 0.86149312 0.94879192 1.1976247 ]\n",
            " [1.         1.59327217 0.81650207 0.99214566 1.24134569]\n",
            " [1.         1.53753644 0.83844519 0.97571974 1.1870471 ]\n",
            " [1.         1.56304576 0.82532751 0.96132775 1.24382716]\n",
            " [1.         1.54695222 0.7929709  0.99745061 1.23506494]]\n",
            "\n",
            "Using Numpy Function:\n",
            " [[       nan        nan        nan        nan        nan]\n",
            " [1.         1.51158708 0.81304857 0.93913613 1.25011246]\n",
            " [1.         1.54697509 0.84578885 0.94458931 1.22217353]\n",
            " [1.         1.6146789  0.89710099 0.99858156 1.13759432]\n",
            " [1.         1.5        0.83338643 0.90896456 1.24988055]\n",
            " [1.         1.56704981 0.83109834 0.96633593 1.23198847]\n",
            " [1.         1.55088409 0.86149312 0.94879192 1.1976247 ]\n",
            " [1.         1.59327217 0.81650207 0.99214566 1.24134569]\n",
            " [1.         1.53753644 0.83844519 0.97571974 1.1870471 ]\n",
            " [1.         1.56304576 0.82532751 0.96132775 1.24382716]\n",
            " [1.         1.54695222 0.7929709  0.99745061 1.23506494]]\n"
          ]
        }
      ]
    },
    {
      "cell_type": "code",
      "source": [
        "#MOD\n",
        "resultd=d1%d2\n",
        "print(\"\\nUsing Operator:\\n\",resultd)\n",
        "resultd=np.mod(d1,d2)\n",
        "print(\"\\nUsing Numpy Function:\\n\",resultd)"
      ],
      "metadata": {
        "colab": {
          "base_uri": "https://localhost:8080/"
        },
        "id": "WrO-eg_2i6sP",
        "outputId": "72456fc7-0674-4be7-e0a1-82b5d9d02d52"
      },
      "execution_count": null,
      "outputs": [
        {
          "output_type": "stream",
          "name": "stdout",
          "text": [
            "\n",
            "Using Operator:\n",
            " [[  nan   nan   nan   nan   nan]\n",
            " [ 0.   14.57 27.79 28.7   5.56]\n",
            " [ 0.   15.37 28.52 28.98  5.07]\n",
            " [ 0.   16.08 28.16 28.16  3.1 ]\n",
            " [ 0.   13.08 26.16 26.16  5.23]\n",
            " [ 0.   14.8  26.03 27.27  4.83]\n",
            " [ 0.   14.02 26.31 26.31  4.16]\n",
            " [ 0.   15.52 25.63 27.79  4.95]\n",
            " [ 0.   14.75 27.61 28.13  4.13]\n",
            " [ 0.   16.12 28.35 29.83  5.53]\n",
            " [ 0.   16.6  28.88 31.3   5.43]]\n",
            "\n",
            "Using Numpy Function:\n",
            " [[  nan   nan   nan   nan   nan]\n",
            " [ 0.   14.57 27.79 28.7   5.56]\n",
            " [ 0.   15.37 28.52 28.98  5.07]\n",
            " [ 0.   16.08 28.16 28.16  3.1 ]\n",
            " [ 0.   13.08 26.16 26.16  5.23]\n",
            " [ 0.   14.8  26.03 27.27  4.83]\n",
            " [ 0.   14.02 26.31 26.31  4.16]\n",
            " [ 0.   15.52 25.63 27.79  4.95]\n",
            " [ 0.   14.75 27.61 28.13  4.13]\n",
            " [ 0.   16.12 28.35 29.83  5.53]\n",
            " [ 0.   16.6  28.88 31.3   5.43]]\n"
          ]
        }
      ]
    },
    {
      "cell_type": "code",
      "source": [
        "#TRANSPOSE\n",
        "resultd=np.transpose(d1)\n",
        "print(resultarray)\n",
        "#Or\n",
        "resultd=d1.transpose()\n",
        "print(resultd)"
      ],
      "metadata": {
        "colab": {
          "base_uri": "https://localhost:8080/"
        },
        "id": "VOGuR_8wp4d9",
        "outputId": "a649a89b-f390-4609-c501-fd1fd1d716e7"
      },
      "execution_count": null,
      "outputs": [
        {
          "output_type": "stream",
          "name": "stdout",
          "text": [
            "[[          nan           nan           nan           nan           nan]\n",
            " [6.4160100e+05 1.2260640e+03 9.4986220e+02 8.7707200e+02 6.1777170e+02]\n",
            " [6.4320400e+05 1.2215070e+03 9.6169440e+02 8.8910640e+02 6.3644980e+02]\n",
            " [6.4480900e+05 1.1049984e+03 8.8394240e+02 7.9411200e+02 5.7744390e+02]\n",
            " [6.4641600e+05 1.0265184e+03 8.2116240e+02 7.5288480e+02 5.4752880e+02]\n",
            " [6.4802500e+05 1.0674900e+03 8.1525960e+02 7.6955940e+02 5.3403300e+02]\n",
            " [6.4963600e+05 1.0045115e+03 8.0350740e+02 7.2957630e+02 5.3067050e+02]\n",
            " [6.5124900e+05 1.0903488e+03 8.0452570e+02 7.7839790e+02 5.2218460e+02]\n",
            " [6.5286400e+05 1.1576936e+03 9.0919730e+02 8.1098790e+02 5.7871680e+02]\n",
            " [6.5448100e+05 1.2811925e+03 9.7382250e+02 9.2562490e+02 6.3980280e+02]\n",
            " [6.5610000e+05 1.4249325e+03 1.0518096e+03 9.8219400e+02 6.5904300e+02]]\n",
            "[[   nan 801.   802.   803.   804.   805.   806.   807.   808.   809.\n",
            "  810.  ]\n",
            " [   nan  43.05  43.47  42.24  39.24  40.9   39.47  41.68  42.19  44.75\n",
            "   46.95]\n",
            " [   nan  27.79  28.52  28.16  26.16  26.03  26.31  25.63  27.61  28.35\n",
            "   28.88]\n",
            " [   nan  28.7   28.98  28.16  26.16  27.27  26.31  27.79  28.13  29.83\n",
            "   31.3 ]\n",
            " [   nan  27.79  27.89  25.63  26.16  25.65  25.21  25.46  26.21  28.21\n",
            "   28.53]]\n"
          ]
        }
      ]
    },
    {
      "cell_type": "code",
      "source": [
        "#mean\n",
        "resultd=d1+d2/2\n",
        "\n",
        "print(\"\\nUsing Operator:\\n\",resultd)\n",
        "resultd=np.add(d1,d2)\n",
        "print(\"\\nUsing Numpy Function:\\n\",resultd)"
      ],
      "metadata": {
        "colab": {
          "base_uri": "https://localhost:8080/"
        },
        "id": "7QoHjnRVje1O",
        "outputId": "a989dec3-0393-45a0-c630-100135c4a60b"
      },
      "execution_count": null,
      "outputs": [
        {
          "output_type": "stream",
          "name": "stdout",
          "text": [
            "\n",
            "Using Operator:\n",
            " [[     nan      nan      nan      nan      nan]\n",
            " [1201.5     57.29    44.88    43.98    38.905]\n",
            " [1203.      57.52    45.38    44.32    39.3  ]\n",
            " [1204.5     55.32    43.855   42.26    36.895]\n",
            " [1206.      52.32    41.855   40.55    36.625]\n",
            " [1207.5     53.95    41.69    41.38    36.06 ]\n",
            " [1209.      52.195   41.58    40.175   35.735]\n",
            " [1210.5     54.76    41.325   41.795   35.715]\n",
            " [1212.      55.91    44.075   42.545   37.25 ]\n",
            " [1213.5     59.065   45.525   45.345   39.55 ]\n",
            " [1215.      62.125   47.09    46.99    40.08 ]]\n",
            "\n",
            "Using Numpy Function:\n",
            " [[    nan     nan     nan     nan     nan]\n",
            " [1602.     71.53   61.97   59.26   50.02]\n",
            " [1604.     71.57   62.24   59.66   50.71]\n",
            " [1606.     68.4    59.55   56.36   48.16]\n",
            " [1608.     65.4    57.55   54.94   47.09]\n",
            " [1610.     67.     57.35   55.49   46.47]\n",
            " [1612.     64.92   56.85   54.04   46.26]\n",
            " [1614.     67.84   57.02   55.8    45.97]\n",
            " [1616.     69.63   60.54   56.96   48.29]\n",
            " [1618.     73.38   62.7    60.86   50.89]\n",
            " [1620.     77.3    65.3    62.68   51.63]]\n"
          ]
        }
      ]
    },
    {
      "cell_type": "code",
      "source": [
        " #number of student having marks above 40\n",
        "d1=np.genfromtxt(\"/content/testmarks1.csv\",delimiter=\",\")\n",
        "print(d1)\n",
        "EDS=d1[1:,1]\n",
        "print(type(EDS))\n",
        "print(max(EDS))\n",
        "np.count_nonzero(EDS>40)"
      ],
      "metadata": {
        "colab": {
          "base_uri": "https://localhost:8080/"
        },
        "id": "laKEobmalGcN",
        "outputId": "9866cb55-8118-409b-fe10-3c547005eb3e"
      },
      "execution_count": null,
      "outputs": [
        {
          "output_type": "stream",
          "name": "stdout",
          "text": [
            "[[   nan    nan    nan    nan    nan]\n",
            " [801.    43.05  27.79  28.7   27.79]\n",
            " [802.    43.47  28.52  28.98  27.89]\n",
            " [803.    42.24  28.16  28.16  25.63]\n",
            " [804.    39.24  26.16  26.16  26.16]\n",
            " [805.    40.9   26.03  27.27  25.65]\n",
            " [806.    39.47  26.31  26.31  25.21]\n",
            " [807.    41.68  25.63  27.79  25.46]\n",
            " [808.    42.19  27.61  28.13  26.21]\n",
            " [809.    44.75  28.35  29.83  28.21]\n",
            " [810.    46.95  28.88  31.3   28.53]]\n",
            "<class 'numpy.ndarray'>\n",
            "46.95\n"
          ]
        },
        {
          "output_type": "execute_result",
          "data": {
            "text/plain": [
              "8"
            ]
          },
          "metadata": {},
          "execution_count": 38
        }
      ]
    },
    {
      "cell_type": "code",
      "source": [
        "resultd=d1+d2/2\n",
        "\n",
        "print(\"\\nUsing Operator:\\n\",resultd)\n",
        "resultd=np.add(d1,d2)\n",
        "print(\"\\nUsing Numpy Function:\\n\",resultd)\n",
        "EDS=d1[1:,1]\n",
        "print(type(EDS))\n",
        "print(min(EDS))\n",
        "np.count_nonzero(EDS<40)"
      ],
      "metadata": {
        "colab": {
          "base_uri": "https://localhost:8080/"
        },
        "id": "ZOaOgtAynhiF",
        "outputId": "07839c44-c767-4321-bb1f-f9724e1e6194"
      },
      "execution_count": null,
      "outputs": [
        {
          "output_type": "stream",
          "name": "stdout",
          "text": [
            "\n",
            "Using Operator:\n",
            " [[     nan      nan      nan      nan      nan]\n",
            " [1201.5     57.29    44.88    43.98    38.905]\n",
            " [1203.      57.52    45.38    44.32    39.3  ]\n",
            " [1204.5     55.32    43.855   42.26    36.895]\n",
            " [1206.      52.32    41.855   40.55    36.625]\n",
            " [1207.5     53.95    41.69    41.38    36.06 ]\n",
            " [1209.      52.195   41.58    40.175   35.735]\n",
            " [1210.5     54.76    41.325   41.795   35.715]\n",
            " [1212.      55.91    44.075   42.545   37.25 ]\n",
            " [1213.5     59.065   45.525   45.345   39.55 ]\n",
            " [1215.      62.125   47.09    46.99    40.08 ]]\n",
            "\n",
            "Using Numpy Function:\n",
            " [[    nan     nan     nan     nan     nan]\n",
            " [1602.     71.53   61.97   59.26   50.02]\n",
            " [1604.     71.57   62.24   59.66   50.71]\n",
            " [1606.     68.4    59.55   56.36   48.16]\n",
            " [1608.     65.4    57.55   54.94   47.09]\n",
            " [1610.     67.     57.35   55.49   46.47]\n",
            " [1612.     64.92   56.85   54.04   46.26]\n",
            " [1614.     67.84   57.02   55.8    45.97]\n",
            " [1616.     69.63   60.54   56.96   48.29]\n",
            " [1618.     73.38   62.7    60.86   50.89]\n",
            " [1620.     77.3    65.3    62.68   51.63]]\n",
            "<class 'numpy.ndarray'>\n",
            "39.24\n"
          ]
        },
        {
          "output_type": "execute_result",
          "data": {
            "text/plain": [
              "2"
            ]
          },
          "metadata": {},
          "execution_count": 42
        }
      ]
    },
    {
      "cell_type": "markdown",
      "source": [
        "2. Horizontal and vertical stacking of Numpy Arrays"
      ],
      "metadata": {
        "id": "FuQdjzbxqSVM"
      }
    },
    {
      "cell_type": "code",
      "source": [
        "# 2.1. Horizontal Stacking\n",
        "\n",
        "resultd=np.hstack((d1,d2))\n",
        "resultd\n"
      ],
      "metadata": {
        "colab": {
          "base_uri": "https://localhost:8080/"
        },
        "id": "aDeeuS2BoMmV",
        "outputId": "956fdb11-ba4e-4f96-8e34-efbebe4e6f6f"
      },
      "execution_count": null,
      "outputs": [
        {
          "output_type": "execute_result",
          "data": {
            "text/plain": [
              "array([[   nan,    nan,    nan,    nan,    nan,    nan,    nan,    nan,\n",
              "           nan,    nan],\n",
              "       [801.  ,  43.05,  27.79,  28.7 ,  27.79, 801.  ,  28.48,  34.18,\n",
              "         30.56,  22.23],\n",
              "       [802.  ,  43.47,  28.52,  28.98,  27.89, 802.  ,  28.1 ,  33.72,\n",
              "         30.68,  22.82],\n",
              "       [803.  ,  42.24,  28.16,  28.16,  25.63, 803.  ,  26.16,  31.39,\n",
              "         28.2 ,  22.53],\n",
              "       [804.  ,  39.24,  26.16,  26.16,  26.16, 804.  ,  26.16,  31.39,\n",
              "         28.78,  20.93],\n",
              "       [805.  ,  40.9 ,  26.03,  27.27,  25.65, 805.  ,  26.1 ,  31.32,\n",
              "         28.22,  20.82],\n",
              "       [806.  ,  39.47,  26.31,  26.31,  25.21, 806.  ,  25.45,  30.54,\n",
              "         27.73,  21.05],\n",
              "       [807.  ,  41.68,  25.63,  27.79,  25.46, 807.  ,  26.16,  31.39,\n",
              "         28.01,  20.51],\n",
              "       [808.  ,  42.19,  27.61,  28.13,  26.21, 808.  ,  27.44,  32.93,\n",
              "         28.83,  22.08],\n",
              "       [809.  ,  44.75,  28.35,  29.83,  28.21, 809.  ,  28.63,  34.35,\n",
              "         31.03,  22.68],\n",
              "       [810.  ,  46.95,  28.88,  31.3 ,  28.53, 810.  ,  30.35,  36.42,\n",
              "         31.38,  23.1 ]])"
            ]
          },
          "metadata": {},
          "execution_count": 46
        }
      ]
    },
    {
      "cell_type": "code",
      "source": [
        "# 2.2. Vertical Stacking\n",
        "resultd=np.vstack((d1,d2))\n",
        "resultd"
      ],
      "metadata": {
        "colab": {
          "base_uri": "https://localhost:8080/"
        },
        "id": "KhiG9J-pqsee",
        "outputId": "6abba4cb-f9bd-4ade-c0f1-793733987a31"
      },
      "execution_count": null,
      "outputs": [
        {
          "output_type": "execute_result",
          "data": {
            "text/plain": [
              "array([[   nan,    nan,    nan,    nan,    nan],\n",
              "       [801.  ,  43.05,  27.79,  28.7 ,  27.79],\n",
              "       [802.  ,  43.47,  28.52,  28.98,  27.89],\n",
              "       [803.  ,  42.24,  28.16,  28.16,  25.63],\n",
              "       [804.  ,  39.24,  26.16,  26.16,  26.16],\n",
              "       [805.  ,  40.9 ,  26.03,  27.27,  25.65],\n",
              "       [806.  ,  39.47,  26.31,  26.31,  25.21],\n",
              "       [807.  ,  41.68,  25.63,  27.79,  25.46],\n",
              "       [808.  ,  42.19,  27.61,  28.13,  26.21],\n",
              "       [809.  ,  44.75,  28.35,  29.83,  28.21],\n",
              "       [810.  ,  46.95,  28.88,  31.3 ,  28.53],\n",
              "       [   nan,    nan,    nan,    nan,    nan],\n",
              "       [801.  ,  28.48,  34.18,  30.56,  22.23],\n",
              "       [802.  ,  28.1 ,  33.72,  30.68,  22.82],\n",
              "       [803.  ,  26.16,  31.39,  28.2 ,  22.53],\n",
              "       [804.  ,  26.16,  31.39,  28.78,  20.93],\n",
              "       [805.  ,  26.1 ,  31.32,  28.22,  20.82],\n",
              "       [806.  ,  25.45,  30.54,  27.73,  21.05],\n",
              "       [807.  ,  26.16,  31.39,  28.01,  20.51],\n",
              "       [808.  ,  27.44,  32.93,  28.83,  22.08],\n",
              "       [809.  ,  28.63,  34.35,  31.03,  22.68],\n",
              "       [810.  ,  30.35,  36.42,  31.38,  23.1 ]])"
            ]
          },
          "metadata": {},
          "execution_count": 47
        }
      ]
    },
    {
      "cell_type": "code",
      "source": [],
      "metadata": {
        "id": "bB7NJn8zrAG9"
      },
      "execution_count": null,
      "outputs": []
    },
    {
      "cell_type": "markdown",
      "source": [
        "# 3.Custom sequence generation"
      ],
      "metadata": {
        "id": "JRua8g0XrBKs"
      }
    },
    {
      "cell_type": "code",
      "source": [
        "## 3.1. Range\n",
        "arr1=np.arange(800,810,1)\n",
        "print(arr1)"
      ],
      "metadata": {
        "colab": {
          "base_uri": "https://localhost:8080/"
        },
        "id": "Q1WV6r4ZrEJc",
        "outputId": "fcdce5af-cee2-4542-bdaa-4b45303eef09"
      },
      "execution_count": null,
      "outputs": [
        {
          "output_type": "stream",
          "name": "stdout",
          "text": [
            "[800 801 802 803 804 805 806 807 808 809]\n"
          ]
        }
      ]
    },
    {
      "cell_type": "code",
      "source": [
        "## 3.2. Linearly Separable\n",
        "npd=np.linspace(start=800,stop=810,num= 810).reshape(3,4)\n",
        "npd"
      ],
      "metadata": {
        "colab": {
          "base_uri": "https://localhost:8080/"
        },
        "id": "xyO5oo6Kr1FV",
        "outputId": "e855fc82-101d-476c-bda6-3c9aa9a845fd"
      },
      "execution_count": null,
      "outputs": [
        {
          "output_type": "execute_result",
          "data": {
            "text/plain": [
              "array([[ 0.        ,  2.18181818,  4.36363636,  6.54545455],\n",
              "       [ 8.72727273, 10.90909091, 13.09090909, 15.27272727],\n",
              "       [17.45454545, 19.63636364, 21.81818182, 24.        ]])"
            ]
          },
          "metadata": {},
          "execution_count": 49
        }
      ]
    },
    {
      "cell_type": "code",
      "source": [
        "##Arithmetic Operation\n",
        "# Addition\n",
        "print(np.add(d1,d2))\n",
        "# Subtraction\n",
        "print(np.subtract(d1,d2))\n",
        "# Multiplication\n",
        "print(np.multiply(d1,d2))\n",
        "# Division\n",
        "print(np.divide(d1,d2))"
      ],
      "metadata": {
        "colab": {
          "base_uri": "https://localhost:8080/",
          "height": 236
        },
        "id": "pDHFDnTCyUvB",
        "outputId": "39ca5a50-8dc2-44b1-9214-9d2e0e70a64b"
      },
      "execution_count": null,
      "outputs": [
        {
          "output_type": "error",
          "ename": "NameError",
          "evalue": "ignored",
          "traceback": [
            "\u001b[0;31m---------------------------------------------------------------------------\u001b[0m",
            "\u001b[0;31mNameError\u001b[0m                                 Traceback (most recent call last)",
            "\u001b[0;32m<ipython-input-2-9aacd1139b3e>\u001b[0m in \u001b[0;36m<cell line: 3>\u001b[0;34m()\u001b[0m\n\u001b[1;32m      1\u001b[0m \u001b[0;31m##Arithmetic Operation\u001b[0m\u001b[0;34m\u001b[0m\u001b[0;34m\u001b[0m\u001b[0m\n\u001b[1;32m      2\u001b[0m \u001b[0;31m# Addition\u001b[0m\u001b[0;34m\u001b[0m\u001b[0;34m\u001b[0m\u001b[0m\n\u001b[0;32m----> 3\u001b[0;31m \u001b[0mprint\u001b[0m\u001b[0;34m(\u001b[0m\u001b[0mnp\u001b[0m\u001b[0;34m.\u001b[0m\u001b[0madd\u001b[0m\u001b[0;34m(\u001b[0m\u001b[0md1\u001b[0m\u001b[0;34m,\u001b[0m\u001b[0md2\u001b[0m\u001b[0;34m)\u001b[0m\u001b[0;34m)\u001b[0m\u001b[0;34m\u001b[0m\u001b[0;34m\u001b[0m\u001b[0m\n\u001b[0m\u001b[1;32m      4\u001b[0m \u001b[0;31m# Subtraction\u001b[0m\u001b[0;34m\u001b[0m\u001b[0;34m\u001b[0m\u001b[0m\n\u001b[1;32m      5\u001b[0m \u001b[0mprint\u001b[0m\u001b[0;34m(\u001b[0m\u001b[0mnp\u001b[0m\u001b[0;34m.\u001b[0m\u001b[0msubtract\u001b[0m\u001b[0;34m(\u001b[0m\u001b[0md1\u001b[0m\u001b[0;34m,\u001b[0m\u001b[0md2\u001b[0m\u001b[0;34m)\u001b[0m\u001b[0;34m)\u001b[0m\u001b[0;34m\u001b[0m\u001b[0;34m\u001b[0m\u001b[0m\n",
            "\u001b[0;31mNameError\u001b[0m: name 'np' is not defined"
          ]
        }
      ]
    }
  ]
}